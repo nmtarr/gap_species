{
 "cells": [
  {
   "cell_type": "markdown",
   "metadata": {
    "deletable": true,
    "editable": true
   },
   "source": [
    "This notebook rebuilds all GAP Habitat Map and Range Map items in their respective ScienceBase collections from source material contained in files attached to both items, retaining only the DOI assignment from the original items. It can be used to make adjustments to the item metadata, which is considered the master online source within the Biogeographic Information System for the GAP species records. From this point, the informaiton is pulled out via the ScienceBase API and cached in other data stores for use."
   ]
  },
  {
   "cell_type": "code",
   "execution_count": 1,
   "metadata": {
    "collapsed": false,
    "deletable": true,
    "editable": true
   },
   "outputs": [],
   "source": [
    "import requests\n",
    "import pysb\n",
    "import time\n",
    "from IPython.display import display\n",
    "import pandas as pd\n",
    "import ast\n",
    "import json\n",
    "import sys\n",
    "if sys.version_info[0] < 3: \n",
    "    from StringIO import StringIO\n",
    "else:\n",
    "    from io import StringIO"
   ]
  },
  {
   "cell_type": "code",
   "execution_count": 2,
   "metadata": {
    "collapsed": false,
    "deletable": true,
    "editable": true
   },
   "outputs": [],
   "source": [
    "rootItems = {}\n",
    "rootItems[\"Habitat Maps\"] = \"527d0a83e4b0850ea0518326\"\n",
    "rootItems[\"Range Maps\"] = \"5951527de4b062508e3b1e79\""
   ]
  },
  {
   "cell_type": "markdown",
   "metadata": {
    "deletable": true,
    "editable": true
   },
   "source": [
    "This code block retrieves two sets of vocabularies from the ScienceBase Vocab and builds them into a simple dictionary data structure for use. This is used to key off of identifier types and the code lists that indicate how ITIS and NatureServe identifiers relate to GAP species codes so that the final identifiers in the ScienceBase Items all point explicitly to a definition of the relationship via their scheme attribute."
   ]
  },
  {
   "cell_type": "code",
   "execution_count": 3,
   "metadata": {
    "collapsed": true,
    "deletable": true,
    "editable": true
   },
   "outputs": [],
   "source": [
    "sbItemIdentifiers = requests.get(\"https://www.sciencebase.gov/vocab/identifier/terms?nodeType=term&parentId=528e99f7e4b05d51c7038afd&max=100&format=json\").json()\n",
    "bisIdentifiers = requests.get(\"https://www.sciencebase.gov/vocab/categories?parentId=59e62074e4b0adbd11e26b12&max=100&format=json\").json()\n",
    "\n",
    "identifiers = {}\n",
    "identifiers[\"ITIS\"] = {}\n",
    "identifiers[\"NatureServe\"] = {}\n",
    "for i in sbItemIdentifiers[\"list\"]:\n",
    "    identifiers[i[\"name\"]] = i[\"scheme\"]+\"/\"+i[\"name\"]\n",
    "for i in bisIdentifiers[\"list\"]:\n",
    "    identifiers[i[\"name\"]] = i[\"scheme\"]+\"/\"+i[\"name\"]\n",
    "    if i[\"name\"].find(\"itis_tsn_\") == 0:\n",
    "        identifiers[\"ITIS\"][i[\"label\"]] = {\"scheme\":i[\"scheme\"]+\"/\"+i[\"name\"],\"name\":i[\"name\"]}\n",
    "    elif i[\"name\"].find(\"nsid_\") == 0:\n",
    "        identifiers[\"NatureServe\"][i[\"label\"]] = {\"scheme\":i[\"scheme\"]+\"/\"+i[\"name\"],\"name\":i[\"name\"]}\n"
   ]
  },
  {
   "cell_type": "code",
   "execution_count": 4,
   "metadata": {
    "collapsed": false,
    "deletable": true,
    "editable": true
   },
   "outputs": [
    {
     "name": "stdout",
     "output_type": "stream",
     "text": [
      "Username: sbristol@usgs.gov\n",
      "········\n"
     ]
    },
    {
     "data": {
      "text/plain": [
       "<pysb.SbSession.SbSession at 0x109f8b550>"
      ]
     },
     "execution_count": 4,
     "metadata": {},
     "output_type": "execute_result"
    }
   ],
   "source": [
    "sb = pysb.SbSession()\n",
    "username = input(\"Username: \")\n",
    "sb.loginc(str(username))"
   ]
  },
  {
   "cell_type": "markdown",
   "metadata": {
    "deletable": true,
    "editable": true
   },
   "source": [
    "The root collection items (see above) both have source files attached to them identified by specific titles indicating their purpose. These came from a couple of backend databases and spreadsheets used by the GAP team in managing species information and connecting it to other data for use. These files are essentially the \"online debut\" of the information and a point of reference from which we build out the species items with code. The attributes we use from these sources are built into a local data structure for each species called \"speciesRecord\" that is then used to build out each species item. Some of the information is common between Habitat Maps and Range Maps while other attributes are specific to one or the other. If we ever need to change information for these records, we can either rerun this code with fresh files or edit the information directly on the ScienceBase Items through some other means and then refresh backend systems from there.\n",
    "\n",
    "The following code block reads the data from the attached CSVs into Pandas dataframes for processing. The files are called into those dataframes based on their very explicit titles from the collection item attachments."
   ]
  },
  {
   "cell_type": "code",
   "execution_count": 15,
   "metadata": {
    "collapsed": false,
    "deletable": true,
    "editable": true
   },
   "outputs": [],
   "source": [
    "habitatMapRootItem = sb.get_item(rootItems[\"Habitat Maps\"])\n",
    "rangeMapRootItem = sb.get_item(rootItems[\"Range Maps\"])\n",
    "\n",
    "pd.set_option(\"display.max_colwidth\", 10000)\n",
    "habitatMapSourceMetadata = pd.read_csv(StringIO(sb.get([f for f in habitatMapRootItem[\"files\"] if f[\"title\"] == \"Metadata Source: Habitat Maps\"][0][\"url\"])))\n",
    "rangeMapSourceMetadata = pd.read_csv(StringIO(sb.get([f for f in rangeMapRootItem[\"files\"] if f[\"title\"] == \"Metadata Source: Range Maps\"][0][\"url\"])))\n",
    "itis_ns_codes = pd.read_csv(StringIO(sb.get([f for f in habitatMapRootItem[\"files\"] if f[\"title\"] == \"Code Mapping: ITIS and NatureServe\"][0][\"url\"])))\n",
    "iucn_codes = pd.read_csv(StringIO(sb.get([f for f in habitatMapRootItem[\"files\"] if f[\"title\"] == \"Code Mapping: IUCN\"][0][\"url\"])))\n"
   ]
  },
  {
   "cell_type": "markdown",
   "metadata": {
    "deletable": true,
    "editable": true
   },
   "source": [
    "These are a couple of specific functions that made sense to pull out here. I don't know if they would be useful in other circumstances. If so, we can pull them out into the bis package."
   ]
  },
  {
   "cell_type": "code",
   "execution_count": 6,
   "metadata": {
    "collapsed": false,
    "deletable": true,
    "editable": true
   },
   "outputs": [],
   "source": [
    "def getScienceBaseItem(whichRoot,GAP_SpeciesCode):\n",
    "    searchResults = sb.find_items(\"parentId=\"+rootItems[whichRoot]+\"&fields=identifiers&q=\"+GAP_SpeciesCode)\n",
    "    if len(searchResults[\"items\"]) > 1:\n",
    "        return None\n",
    "    else:\n",
    "        return searchResults[\"items\"][0]\n",
    "\n",
    "def doiIdentifier(doiString):\n",
    "    identifier = {\"type\":\"doi\",\"scheme\":\"https://www.sciencebase.gov/vocab/identifier/term/doi\"}\n",
    "\n",
    "    if doiString.find(\"://\") > 0:\n",
    "        doiString = \"doi:\"+doiString.split(\"/\")[-2]+\"/\"+doiString.split(\"/\")[-1]\n",
    "\n",
    "    identifier[\"key\"] = doiString\n",
    "    return identifier"
   ]
  },
  {
   "cell_type": "markdown",
   "metadata": {
    "deletable": true,
    "editable": true
   },
   "source": [
    "This is the main information processing section of the script. It uses the primary file of base species metadata from the Habitat Map collection item as the driving loop, iterating over each row to build the speciesRecord dictionary from attributes in that file and the other reference files and then make choices about how to build out the Habitat Map and Range Map items. It then updates those items via the ScienceBase API, essentially replacing all the major core attributes on those items with freshened information. This could be made more elegant by doing date comparisons between source files and items to determine what exactly needed to be updated, but it is a small enough number of items that it shouldn't realy matter.\n",
    "\n",
    "Note that other code will be running eventually to put new attributes on the ScienceBase Items from the Taxa Information Registry (e.g., ITIS taxonomy, IUCN threats, FWS listing status, etc.). These \"value-added\" facets on the items will help drive search and analysis processes and will be driven partly by how this base information is put onto the items (e.g., specific link types for ITIS identifiers determines what information we pull back from that system and how we deal with it)."
   ]
  },
  {
   "cell_type": "code",
   "execution_count": 17,
   "metadata": {
    "collapsed": false,
    "deletable": true,
    "editable": true,
    "scrolled": true
   },
   "outputs": [
    {
     "name": "stdout",
     "output_type": "stream",
     "text": [
      "1\n"
     ]
    },
    {
     "data": {
      "text/plain": [
       "{'CommonName': 'Yellow-billed Cuckoo',\n",
       " 'GAP_SpeciesCode': 'bYBCUx',\n",
       " 'ScientificName': 'Coccyzus americanus',\n",
       " 'd_habitatMapDOI': {'key': 'doi:10.5066/F7K64GF3',\n",
       "  'scheme': 'https://www.sciencebase.gov/vocab/identifier/term/doi',\n",
       "  'type': 'doi'},\n",
       " 'd_rangeMapDOI': {'key': 'doi:10.5066/F78C9V87',\n",
       "  'scheme': 'https://www.sciencebase.gov/vocab/identifier/term/doi',\n",
       "  'type': 'doi'},\n",
       " 'endDate': 2014,\n",
       " 'habitatMapDOI': 'doi:10.5066/F7K64GF3',\n",
       " 'habitatMapEditor': 'Nathan Tarr',\n",
       " 'habitatMapID': '58fa5e7fe4b0b7ea5452563c',\n",
       " 'habitatMapReviewer': 'Jeff Lonneker',\n",
       " 'itisID': 177831,\n",
       " 'itisTypeCode': 0,\n",
       " 'iucnID': 22684331,\n",
       " 'natureServeID': 105709,\n",
       " 'natureServeTypeCode': 0,\n",
       " 'publicationDate': 2017,\n",
       " 'rangeMapDOI': 'doi:10.5066/F78C9V87',\n",
       " 'rangeMapEditor': ['Ken Boykin',\n",
       "  'Nathan Tarr',\n",
       "  'Robert Adair',\n",
       "  'Thomas Laxson'],\n",
       " 'rangeMapID': '59f5e201e4b063d5d307dc0f',\n",
       " 'rangeMapReviewer': 'Jeff Lonneker',\n",
       " 'startDate': 2008}"
      ]
     },
     "metadata": {},
     "output_type": "display_data"
    }
   ],
   "source": [
    "count = 0\n",
    "for index, habitatMapMetadata in habitatMapSourceMetadata.iterrows():\n",
    "    if habitatMapMetadata[\"GAP_code\"] != \"bYBCUx\":\n",
    "        continue\n",
    "    # Set up a local species record structure containing common attributes; instantiate as available\n",
    "    speciesRecord = {}\n",
    "    speciesRecord[\"GAP_SpeciesCode\"] = habitatMapMetadata[\"GAP_code\"]\n",
    "    speciesRecord[\"CommonName\"] = habitatMapMetadata[\"common_name\"]\n",
    "    speciesRecord[\"ScientificName\"] = habitatMapMetadata[\"scientific_name\"]\n",
    "    speciesRecord[\"startDate\"] = int(habitatMapMetadata[\"start_date\"])\n",
    "    speciesRecord[\"endDate\"] = int(habitatMapMetadata[\"end_date\"])\n",
    "    speciesRecord[\"publicationDate\"] = int(habitatMapMetadata[\"publication_date\"])\n",
    "    speciesRecord[\"habitatMapEditor\"] = habitatMapMetadata[\"editor\"]\n",
    "    speciesRecord[\"habitatMapReviewer\"] = habitatMapMetadata[\"reviewer\"]\n",
    "\n",
    "    # Get the Range Map metadata for this species code from the source file attached to the range map collection\n",
    "    rangeMapMetadata = rangeMapSourceMetadata.loc[rangeMapSourceMetadata[\"GAP_code\"] == speciesRecord[\"GAP_SpeciesCode\"]]\n",
    "\n",
    "    speciesRecord[\"rangeMapReviewer\"] = rangeMapMetadata[\"reviewer\"].to_string(index=False)\n",
    "    speciesRecord[\"rangeMapEditor\"] = ast.literal_eval(rangeMapMetadata[\"editors\"].to_string(index=False))\n",
    "\n",
    "    # Get the identifiers associated with species\n",
    "    itis_ns_code = itis_ns_codes.loc[itis_ns_codes[\"strUC\"] == speciesRecord[\"GAP_SpeciesCode\"]]\n",
    "    iucn_code = iucn_codes.loc[iucn_codes[\"GapSpCode\"] == speciesRecord[\"GAP_SpeciesCode\"]]\n",
    "\n",
    "    speciesRecord[\"itisID\"] = int(itis_ns_code[\"intITIScode\"].to_string(index=False))\n",
    "    speciesRecord[\"itisTypeCode\"] = int(itis_ns_code[\"intGapITISmatch\"].to_string(index=False))\n",
    "    speciesRecord[\"natureServeID\"] = int(itis_ns_code[\"intNSglobal\"].to_string(index=False))\n",
    "    speciesRecord[\"natureServeTypeCode\"] = int(itis_ns_code[\"intGapNSmatch\"].to_string(index=False))\n",
    "    if iucn_code.empty:\n",
    "        speciesRecord[\"iucnID\"] = None\n",
    "    else:\n",
    "        speciesRecord[\"iucnID\"] = int(iucn_code[\"IUCN Spp Number\"].to_string(index=False))\n",
    "\n",
    "    # Get the current ScienceBase record for both the Habitat Map and the Range Map\n",
    "    habitatMapItem_old = getScienceBaseItem(\"Habitat Maps\",speciesRecord[\"GAP_SpeciesCode\"])\n",
    "    rangeMapItem_old = getScienceBaseItem(\"Range Maps\",speciesRecord[\"GAP_SpeciesCode\"])\n",
    "\n",
    "    # Fail this record and continue if either of the current ScienceBase records can't be found - something went wrong\n",
    "    if habitatMapItem_old is None or rangeMapItem_old is None:\n",
    "        display (speciesRecord)\n",
    "        continue\n",
    "    else:\n",
    "        speciesRecord[\"habitatMapID\"] = habitatMapItem_old[\"id\"]\n",
    "        speciesRecord[\"rangeMapID\"] = rangeMapItem_old[\"id\"]\n",
    "        speciesRecord[\"d_habitatMapDOI\"] = doiIdentifier(habitatMapItem_old[\"identifiers\"][[i for i,_ in enumerate(habitatMapItem_old[\"identifiers\"]) if _[\"type\"] == \"doi\"][0]][\"key\"])\n",
    "        speciesRecord[\"d_rangeMapDOI\"] = doiIdentifier(rangeMapItem_old[\"identifiers\"][[i for i,_ in enumerate(rangeMapItem_old[\"identifiers\"]) if _[\"type\"] == \"doi\"][0]][\"key\"])\n",
    "        speciesRecord[\"habitatMapDOI\"] = speciesRecord[\"d_habitatMapDOI\"][\"key\"]\n",
    "        speciesRecord[\"rangeMapDOI\"] = speciesRecord[\"d_rangeMapDOI\"][\"key\"]\n",
    "\n",
    "    # Set up new documents for the two items; these will be used to update the ScienceBase record with assured information\n",
    "    habitatMapItem_new = {\"id\":speciesRecord[\"habitatMapID\"],\"identifiers\":[],\"contacts\":[],\"webLinks\":[],\"dates\":[]}\n",
    "    rangeMapItem_new = {\"id\":speciesRecord[\"rangeMapID\"],\"identifiers\":[],\"contacts\":[],\"webLinks\":[],\"dates\":[]}\n",
    "\n",
    "    # Add GAP Species Code identifier\n",
    "    habitatMapItem_new[\"identifiers\"].append({\"type\":\"GAP_SpeciesCode\",\"key\":speciesRecord[\"GAP_SpeciesCode\"],\"scheme\":identifiers[\"GAP_SpeciesCode\"]})\n",
    "    rangeMapItem_new[\"identifiers\"].append({\"type\":\"GAP_SpeciesCode\",\"key\":speciesRecord[\"GAP_SpeciesCode\"],\"scheme\":identifiers[\"GAP_SpeciesCode\"]})\n",
    "\n",
    "    # Add in name identifiers\n",
    "    habitatMapItem_new[\"identifiers\"].append({\"type\":\"CommonName\",\"key\":speciesRecord[\"CommonName\"],\"scheme\":identifiers[\"CommonName\"]})\n",
    "    rangeMapItem_new[\"identifiers\"].append({\"type\":\"CommonName\",\"key\":speciesRecord[\"CommonName\"],\"scheme\":identifiers[\"CommonName\"]})\n",
    "    habitatMapItem_new[\"identifiers\"].append({\"type\":\"ScientificName\",\"key\":speciesRecord[\"ScientificName\"],\"scheme\":identifiers[\"ScientificName\"]})\n",
    "    rangeMapItem_new[\"identifiers\"].append({\"type\":\"ScientificName\",\"key\":speciesRecord[\"ScientificName\"],\"scheme\":identifiers[\"ScientificName\"]})\n",
    "\n",
    "    # Add in DOIs\n",
    "    habitatMapItem_new[\"identifiers\"].append(speciesRecord[\"d_habitatMapDOI\"])\n",
    "    rangeMapItem_new[\"identifiers\"].append(speciesRecord[\"d_rangeMapDOI\"])\n",
    "\n",
    "    # Add in ITIS identifiers\n",
    "    habitatMapItem_new[\"identifiers\"].append({\"key\":speciesRecord[\"itisID\"],\"type\":identifiers[\"ITIS\"][str(speciesRecord[\"itisTypeCode\"])][\"name\"],\"scheme\":identifiers[\"ITIS\"][str(speciesRecord[\"itisTypeCode\"])][\"scheme\"]})\n",
    "    rangeMapItem_new[\"identifiers\"].append({\"key\":speciesRecord[\"itisID\"],\"type\":identifiers[\"ITIS\"][str(speciesRecord[\"itisTypeCode\"])][\"name\"],\"scheme\":identifiers[\"ITIS\"][str(speciesRecord[\"itisTypeCode\"])][\"scheme\"]})\n",
    "\n",
    "    # Add in NatureServe identifiers\n",
    "    habitatMapItem_new[\"identifiers\"].append({\"key\":speciesRecord[\"natureServeID\"],\"type\":identifiers[\"NatureServe\"][str(speciesRecord[\"natureServeTypeCode\"])][\"name\"],\"scheme\":identifiers[\"NatureServe\"][str(speciesRecord[\"natureServeTypeCode\"])][\"scheme\"]})\n",
    "    rangeMapItem_new[\"identifiers\"].append({\"key\":speciesRecord[\"natureServeID\"],\"type\":identifiers[\"NatureServe\"][str(speciesRecord[\"natureServeTypeCode\"])][\"name\"],\"scheme\":identifiers[\"NatureServe\"][str(speciesRecord[\"natureServeTypeCode\"])][\"scheme\"]})\n",
    "\n",
    "    # Add in IUCN identifier when it is available\n",
    "    if speciesRecord[\"iucnID\"] is not None:\n",
    "        habitatMapItem_new[\"identifiers\"].append({\"key\":speciesRecord[\"iucnID\"],\"type\":\"iucn_id_verified\",\"scheme\":identifiers[\"iucn_id_verified\"]})\n",
    "        rangeMapItem_new[\"identifiers\"].append({\"key\":speciesRecord[\"iucnID\"],\"type\":\"iucn_id_verified\",\"scheme\":identifiers[\"iucn_id_verified\"]})\n",
    "\n",
    "    # Set title for both items\n",
    "    _titlePrefix = speciesRecord[\"CommonName\"]+\" (\"+speciesRecord[\"ScientificName\"]+\") \"\n",
    "    habitatMapItem_new[\"title\"] = _titlePrefix+\"Habitat Map\"\n",
    "    rangeMapItem_new[\"title\"] = _titlePrefix+\"Range Map\"\n",
    "\n",
    "    # Set citation string for both items\n",
    "    _citationPrefix = \"U.S. Geological Survey - Gap Analysis Project, 2017, \"\n",
    "    habitatMapItem_new[\"citation\"] = _citationPrefix+habitatMapItem_new[\"title\"]+\", \"+speciesRecord[\"habitatMapDOI\"].replace(\"doi:\",\"http://doi.org/\")+\".\"\n",
    "    rangeMapItem_new[\"citation\"] = _citationPrefix+rangeMapItem_new[\"title\"]+\", \"+speciesRecord[\"rangeMapDOI\"].replace(\"doi:\",\"http://doi.org/\")+\".\"\n",
    "\n",
    "    # Set Habitat Map editor and reviewer\n",
    "    habitatMapItem_new[\"contacts\"].append({\"contactType\":\"person\",\"type\":\"editor\",\"name\":speciesRecord[\"habitatMapEditor\"]})\n",
    "    habitatMapItem_new[\"contacts\"].append({\"contactType\":\"person\",\"type\":\"reviewer\",\"name\":speciesRecord[\"habitatMapReviewer\"]})\n",
    "\n",
    "    # Set Range Map editors and reviewer\n",
    "    rangeMapItem_new[\"contacts\"].append({\"contactType\":\"person\",\"type\":\"reviewer\",\"name\":speciesRecord[\"rangeMapReviewer\"]})\n",
    "    for editorName in speciesRecord[\"rangeMapEditor\"]:\n",
    "        rangeMapItem_new[\"contacts\"].append({\"contactType\":\"person\",\"type\":\"editor\",\"name\":editorName})\n",
    "\n",
    "    # Set dates on items\n",
    "    habitatMapItem_new[\"dates\"].append({\"type\":\"Publication\",\"label\":\"Publication Date\",\"dateString\":speciesRecord[\"publicationDate\"]})\n",
    "    habitatMapItem_new[\"dates\"].append({\"type\":\"Start\",\"label\":\"Start Date\",\"dateString\":speciesRecord[\"startDate\"]})\n",
    "    habitatMapItem_new[\"dates\"].append({\"type\":\"End\",\"label\":\"End Date\",\"dateString\":speciesRecord[\"endDate\"]})\n",
    "    rangeMapItem_new[\"dates\"].append({\"type\":\"Publication\",\"label\":\"Publication Date\",\"dateString\":speciesRecord[\"publicationDate\"]})\n",
    "    rangeMapItem_new[\"dates\"].append({\"type\":\"Start\",\"label\":\"Start Date\",\"dateString\":speciesRecord[\"startDate\"]})\n",
    "    rangeMapItem_new[\"dates\"].append({\"type\":\"End\",\"label\":\"End Date\",\"dateString\":speciesRecord[\"endDate\"]})\n",
    "\n",
    "    # Set up crosslinks between items\n",
    "    habitatMapItem_new[\"webLinks\"].append({\"type\":\"webLink\",\"typeLabel\":\"Web Link\",\"uri\":\"https://www.sciencebase.gov/catalog/item/\"+speciesRecord[\"rangeMapID\"],\"title\":rangeMapItem_new[\"title\"]})\n",
    "    rangeMapItem_new[\"webLinks\"].append({\"type\":\"webLink\",\"typeLabel\":\"Web Link\",\"uri\":\"https://www.sciencebase.gov/catalog/item/\"+speciesRecord[\"habitatMapID\"],\"title\":habitatMapItem_new[\"title\"]})\n",
    "\n",
    "    # Add additional link to range map items for SHUCs DOI\n",
    "    rangeMapItem_new[\"webLinks\"].append({\"type\":\"webLink\",\"typeLabel\":\"Web Link\",\"uri\":\"https://doi.org/10.5066/F7DZ0754\",\"title\":\"Source data for strHUC12RNG in species range\"})\n",
    "\n",
    "    # Add in purpose statements\n",
    "    habitatMapItem_new[\"purpose\"] = \"GAP distribution models represent the areas where species are predicted to occur based on habitat associations. The distribution models represent the spatial arrangement of environments suitable for occupation by a species. In other words, a species distribution is created using a deductive model to predict areas suitable for occupation within a species range. To represent these suitable environments for this species' habitat distribution model, we used the land cover and other ancillary datasets listed here in this metadata. Details on the habitat affinities and the parameters used to model are provided in the species report in the attached files section of this record.These models can be used to assess the habitat availability across the range of the species and in combination with other data to assess the conservation status or threats to the habitat for the species.\"\n",
    "    rangeMapItem_new[\"purpose\"] = \"GAP range maps represent a coarse representation of the total areal extent of a species or the geographic limits within which a species can be found. The known range for a species can be used to constrain the boundaries of the species distribution model and in assessments of the conservation status and/or threats within the range of a species.\"\n",
    "\n",
    "    # Send updates to both items\n",
    "    sb.update_item(habitatMapItem_new)\n",
    "    sb.update_item(rangeMapItem_new)\n",
    "\n",
    "    # Print a count of the items processed for status checking\n",
    "    count = count + 1\n",
    "    print (count)\n",
    "    # Display the speciesRecord data structure for inline processing reference; \n",
    "    display (speciesRecord)\n",
    "    # Put in a short delay to keep ScienceBase from booting us out\n",
    "    time.sleep(1)\n"
   ]
  },
  {
   "cell_type": "code",
   "execution_count": null,
   "metadata": {
    "collapsed": true,
    "deletable": true,
    "editable": true
   },
   "outputs": [],
   "source": []
  }
 ],
 "metadata": {
  "kernelspec": {
   "display_name": "Python 3",
   "language": "python",
   "name": "python3"
  },
  "language_info": {
   "codemirror_mode": {
    "name": "ipython",
    "version": 3
   },
   "file_extension": ".py",
   "mimetype": "text/x-python",
   "name": "python",
   "nbconvert_exporter": "python",
   "pygments_lexer": "ipython3",
   "version": "3.5.3"
  }
 },
 "nbformat": 4,
 "nbformat_minor": 0
}
