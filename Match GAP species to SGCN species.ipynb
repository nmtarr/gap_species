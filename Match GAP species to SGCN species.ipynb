{
 "cells": [
  {
   "cell_type": "markdown",
   "metadata": {},
   "source": [
    "N. Tarr 7/19/2018\n",
    "\n",
    "Python 2.7\n",
    "\n",
    "Description: Match SGCN species to gap species.  Begin by matching on TSN codes.  Running this code requires access to the gapproduction package, which requires arcpy and connection to the NCSU GAP databases.  \n",
    "\n",
    "Note: It is necessary to have access to a info from NCSU GAP databases on gap species name-ITIS crosswalk info.  Here, it is accessed with a csv file.  Each GAP species is linked with an ITIS TSN.  However, some gap species are not recognized by ITIS or direct matches will require extensive review of literature.  GAP species may be linked to a \"parent\" TSN (e.g. for the Genus) in such cases."
   ]
  },
  {
   "cell_type": "code",
   "execution_count": 22,
   "metadata": {},
   "outputs": [],
   "source": [
    "import pandas as pd\n",
    "import bis\n",
    "import sys\n",
    "import requests\n",
    "import pprint\n",
    "sys.path.append('C:/Program Files (x86)/ArcGIS/Desktop10.4/bin64')\n",
    "sys.path.append('C:/Program Files (x86)/ArcGIS/Desktop10.4/ArcPy')\n",
    "sys.path.append('C:/Program Files (x86)/ArcGIS/Desktop10.4/ArcToolBox/Scripts')\n",
    "sys.path.append('P:/Proj3/USGap/Scripts/GAPAnalysis')\n",
    "sys.path.append('P:/Proj3/USGap/Scripts/GAPProduction')\n",
    "sys.path.append('P:/Proj3/USGap/Scripts/')\n",
    "import gapproduction as gp\n",
    "import pymongo"
   ]
  },
  {
   "cell_type": "markdown",
   "metadata": {},
   "source": [
    "Functions and variables for connecting to bis database"
   ]
  },
  {
   "cell_type": "code",
   "execution_count": 23,
   "metadata": {},
   "outputs": [
    {
     "name": "stdout",
     "output_type": "stream",
     "text": [
      "username: ntarr\n",
      "password: LrPS7Q_gq!mw]kz\n"
     ]
    }
   ],
   "source": [
    "host=\"54.91.95.139\"\n",
    "port=27017\n",
    "username=raw_input(\"username: \")\n",
    "password=raw_input(\"password: \")\n",
    "\n",
    "def _connect_mongodb(host, port, username, password, db):\n",
    "    \"\"\" A util for making a connection to mongo \"\"\"\n",
    "\n",
    "    if username and password:\n",
    "        mongo_uri = 'mongodb://%s:%s@%s:%s/%s' % (username, password, host, port, db)\n",
    "        conn = pymongo.MongoClient(mongo_uri)\n",
    "    else:\n",
    "        conn = pymongo.MongoClient(host, port)\n",
    "        \n",
    "    return conn[db]\n",
    "\n",
    "def get_collection_cursor(db, collection, host, port, username, password, query={}):\n",
    "    \"\"\" Read from Mongo \"\"\"\n",
    "\n",
    "    # Connect to MongoDB\n",
    "    db = _connect_mongodb(host=host, port=port, username=username, password=password, db=db)\n",
    "\n",
    "    # Make a query to the specific DB and Collection\n",
    "    cursor = db[collection].find(query)\n",
    "    \n",
    "    return cursor"
   ]
  },
  {
   "cell_type": "markdown",
   "metadata": {},
   "source": [
    "## Create a dictionary to hold SGCN - GAP matches"
   ]
  },
  {
   "cell_type": "code",
   "execution_count": 24,
   "metadata": {},
   "outputs": [],
   "source": [
    "matches = {}\n",
    "non_matches = {}"
   ]
  },
  {
   "cell_type": "markdown",
   "metadata": {},
   "source": [
    "## Read in GAP Scientific Names, TSN codes, and species codes\n",
    "Read in as a table with fields \"SciName_GAP\", \"TSN_GAP\", \"gap_code\""
   ]
  },
  {
   "cell_type": "code",
   "execution_count": 25,
   "metadata": {
    "scrolled": true
   },
   "outputs": [
    {
     "data": {
      "text/html": [
       "<div>\n",
       "<style scoped>\n",
       "    .dataframe tbody tr th:only-of-type {\n",
       "        vertical-align: middle;\n",
       "    }\n",
       "\n",
       "    .dataframe tbody tr th {\n",
       "        vertical-align: top;\n",
       "    }\n",
       "\n",
       "    .dataframe thead th {\n",
       "        text-align: right;\n",
       "    }\n",
       "</style>\n",
       "<table border=\"1\" class=\"dataframe\">\n",
       "  <thead>\n",
       "    <tr style=\"text-align: right;\">\n",
       "      <th></th>\n",
       "      <th>strUC</th>\n",
       "      <th>strSciName</th>\n",
       "      <th>intITIScode</th>\n",
       "      <th>intGapITISmatch</th>\n",
       "      <th>strGapITISmatch</th>\n",
       "      <th>memTaxaNotes</th>\n",
       "    </tr>\n",
       "  </thead>\n",
       "  <tbody>\n",
       "    <tr>\n",
       "      <th>0</th>\n",
       "      <td>rLWWHx</td>\n",
       "      <td>Aspidoscelis gypsi</td>\n",
       "      <td>174021</td>\n",
       "      <td>6.0</td>\n",
       "      <td>ITIS does not recognize this species concept. ...</td>\n",
       "      <td>Aspidoscelis gypsi (Little White Whiptail) is ...</td>\n",
       "    </tr>\n",
       "    <tr>\n",
       "      <th>1</th>\n",
       "      <td>rDENIx</td>\n",
       "      <td>Hypsiglena chlorophaea</td>\n",
       "      <td>174233</td>\n",
       "      <td>6.0</td>\n",
       "      <td>ITIS does not recognize this species concept. ...</td>\n",
       "      <td>Hypsiglena chlorophaea (Desert Nightsnake) is ...</td>\n",
       "    </tr>\n",
       "    <tr>\n",
       "      <th>2</th>\n",
       "      <td>rCHNIx</td>\n",
       "      <td>Hypsiglena jani</td>\n",
       "      <td>174233</td>\n",
       "      <td>6.0</td>\n",
       "      <td>ITIS does not recognize this species concept. ...</td>\n",
       "      <td>Hypsiglena jani (Chihuahuan Nightsnake) is rec...</td>\n",
       "    </tr>\n",
       "    <tr>\n",
       "      <th>3</th>\n",
       "      <td>rWNLIx</td>\n",
       "      <td>Xantusia wigginsi</td>\n",
       "      <td>174092</td>\n",
       "      <td>6.0</td>\n",
       "      <td>ITIS does not recognize this species concept. ...</td>\n",
       "      <td>Based on mitochondrial and nuclear DNA data, S...</td>\n",
       "    </tr>\n",
       "    <tr>\n",
       "      <th>4</th>\n",
       "      <td>mPYRAc</td>\n",
       "      <td>Brachylagus idahoensis pop. 2</td>\n",
       "      <td>552521</td>\n",
       "      <td>5.0</td>\n",
       "      <td>ITIS does not recognize this sub-population co...</td>\n",
       "      <td>NatureServe recognizes a distinct subpopulatio...</td>\n",
       "    </tr>\n",
       "  </tbody>\n",
       "</table>\n",
       "</div>"
      ],
      "text/plain": [
       "    strUC                     strSciName  intITIScode  intGapITISmatch  \\\n",
       "0  rLWWHx             Aspidoscelis gypsi       174021              6.0   \n",
       "1  rDENIx         Hypsiglena chlorophaea       174233              6.0   \n",
       "2  rCHNIx                Hypsiglena jani       174233              6.0   \n",
       "3  rWNLIx              Xantusia wigginsi       174092              6.0   \n",
       "4  mPYRAc  Brachylagus idahoensis pop. 2       552521              5.0   \n",
       "\n",
       "                                     strGapITISmatch  \\\n",
       "0  ITIS does not recognize this species concept. ...   \n",
       "1  ITIS does not recognize this species concept. ...   \n",
       "2  ITIS does not recognize this species concept. ...   \n",
       "3  ITIS does not recognize this species concept. ...   \n",
       "4  ITIS does not recognize this sub-population co...   \n",
       "\n",
       "                                        memTaxaNotes  \n",
       "0  Aspidoscelis gypsi (Little White Whiptail) is ...  \n",
       "1  Hypsiglena chlorophaea (Desert Nightsnake) is ...  \n",
       "2  Hypsiglena jani (Chihuahuan Nightsnake) is rec...  \n",
       "3  Based on mitochondrial and nuclear DNA data, S...  \n",
       "4  NatureServe recognizes a distinct subpopulatio...  "
      ]
     },
     "execution_count": 25,
     "metadata": {},
     "output_type": "execute_result"
    }
   ],
   "source": [
    "# Read in csv of gap species, species codes, and TSN codes\n",
    "gapSpecies = pd.read_csv(\"T:/SALCC/GAPspecies2.csv\")\n",
    "gapSpecies.drop([\"scientific_name\", \"common_name\", \"strComName\"],inplace=True, axis=1)\n",
    "gapSpecies.drop(columns=[\"Unnamed: 0\"],inplace=True, axis=1)\n",
    "gapSpecies['intITIScode'].fillna(0, inplace=True)\n",
    "gapSpecies['intITIScode'] = [int(i) for i in gapSpecies['intITIScode']]\n",
    "\n",
    "# Print first 5 records\n",
    "gapSpecies.head()"
   ]
  },
  {
   "cell_type": "markdown",
   "metadata": {},
   "source": [
    "## Read in SGCN Scientific Names and TSN codes, attempt to match with GAP\n",
    "Define the search query for filtering out unwanted records from the bis database"
   ]
  },
  {
   "cell_type": "code",
   "execution_count": 26,
   "metadata": {},
   "outputs": [],
   "source": [
    "query = {\"Taxonomic Group\": {\"$in\": [\"Birds\", \"Reptiles\", \"Amphibians\", \"Mammals\"]}}"
   ]
  },
  {
   "cell_type": "markdown",
   "metadata": {},
   "source": [
    "Process each document in the collection. for each document/record, first check to see if the SGCN TSN is associated with a GAP species.  If it is, collect that record and match.  Note that there are some one-to-many matches on tsn (one SGCN TSN to many GAP species; sometimes due to subspecies).  Those aren't resolved here; they count as non-matches."
   ]
  },
  {
   "cell_type": "code",
   "execution_count": null,
   "metadata": {
    "scrolled": true
   },
   "outputs": [],
   "source": [
    "# Get a cursor for the SGCN Synthesis collection from bis\n",
    "SGCNcursor = get_collection_cursor(db='bis', collection='SGCN Synthesis', query=query, host=host, port=port, \n",
    "                                   username=username, password=password)\n",
    "\n",
    "# Loop through SGCN's and collect matches on TSN\n",
    "for x in SGCNcursor:\n",
    "    tsn = int(x['Taxonomic Authority ID'][-6:])\n",
    "    sciname = x['Taxonomy'][-1]['name']\n",
    "    if int(tsn) in set(gapSpecies.intITIScode):\n",
    "        GAPtsnDF = gapSpecies[gapSpecies['intITIScode'] == tsn]\n",
    "        if len(GAPtsnDF) == 1:\n",
    "            spInfo = {}\n",
    "            spInfo[\"SGCN_id\"] = sciname\n",
    "            spInfo[\"SGCN-ITIS_TSN\"] = tsn\n",
    "            spInfo[\"SGCN_commmon_name\"] = x['Common Name']\n",
    "            spInfo[\"GAP-ITIS_TSN\"] = tsn\n",
    "            spInfo[\"GAP_scientific_name\"] = GAPtsnDF[\"strSciName\"].unique()[0]\n",
    "            spInfo[\"GAP_common_name\"] = gp.gapdb.NameCommon(GAPtsnDF[\"strUC\"].unique()[0])\n",
    "            spInfo[\"GAP_species_code\"] = GAPtsnDF[\"strUC\"].unique()[0]\n",
    "            spInfo[\"GAP-ITIS_match_notes\"] = GAPtsnDF[\"strGapITISmatch\"].unique()[0]\n",
    "            spInfo[\"GAP_taxa_notes\"] = GAPtsnDF[\"memTaxaNotes\"].unique()[0]\n",
    "            spInfo[\"notes\"] = \"\"\n",
    "            matches[sciname] = spInfo\n",
    "        else:\n",
    "            non_matches[sciname] = spInfo\n",
    "    else:\n",
    "        spInfo = {}\n",
    "        spInfo[\"SGCN_scientific_name\"] = sciname\n",
    "        spInfo[\"SGCN-ITISTSN\"] = tsn\n",
    "        spInfo[\"SGCN_commmon_name\"] = x['Common Name']\n",
    "        non_matches[sciname] = spInfo\n"
   ]
  },
  {
   "cell_type": "markdown",
   "metadata": {},
   "source": [
    "# Display results\n",
    "Show the number of records in each dictionary"
   ]
  },
  {
   "cell_type": "code",
   "execution_count": null,
   "metadata": {},
   "outputs": [],
   "source": [
    "print(\"SGCN Synthesis documents: \" + str(len(list(get_collection_cursor(db='bis', collection='SGCN Synthesis', \n",
    "                                                                        query=query, host=host, port=port,\n",
    "                                                                        username=username, password=password)))))\n",
    "print(\"GAP species: 1719\")\n",
    "print(\"Matches: \" + str(len(matches.keys())))\n",
    "print(\"Non-matches: \" + str(len(non_matches.keys())))"
   ]
  },
  {
   "cell_type": "markdown",
   "metadata": {},
   "source": [
    "# Non-matches"
   ]
  },
  {
   "cell_type": "code",
   "execution_count": null,
   "metadata": {},
   "outputs": [],
   "source": [
    "pprint.pprint(non_matches)"
   ]
  },
  {
   "cell_type": "markdown",
   "metadata": {},
   "source": [
    "# Matches"
   ]
  },
  {
   "cell_type": "code",
   "execution_count": null,
   "metadata": {},
   "outputs": [],
   "source": [
    "pprint.pprint(matches)"
   ]
  },
  {
   "cell_type": "code",
   "execution_count": null,
   "metadata": {},
   "outputs": [],
   "source": []
  }
 ],
 "metadata": {
  "kernelspec": {
   "display_name": "Python 2",
   "language": "python",
   "name": "python2"
  },
  "language_info": {
   "codemirror_mode": {
    "name": "ipython",
    "version": 2
   },
   "file_extension": ".py",
   "mimetype": "text/x-python",
   "name": "python",
   "nbconvert_exporter": "python",
   "pygments_lexer": "ipython2",
   "version": "2.7.15"
  }
 },
 "nbformat": 4,
 "nbformat_minor": 2
}
